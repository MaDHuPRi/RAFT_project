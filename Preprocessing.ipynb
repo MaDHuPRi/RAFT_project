{
  "cells": [
    {
      "cell_type": "code",
      "execution_count": null,
      "metadata": {
        "id": "G9ntg6WtqnrI"
      },
      "outputs": [],
      "source": [
        "import cv2\n",
        "import os\n",
        "\n",
        "def rotate_image(image, angle):\n",
        "    # Rotate the image by the given angle\n",
        "    rotated_image = cv2.rotate(image, angle)\n",
        "    return rotated_image\n",
        "\n",
        "def flip_image(image, flip_code):\n",
        "    # Flip the image\n",
        "    flipped_image = cv2.flip(image, flip_code)\n",
        "    return flipped_image\n",
        "\n",
        "def crop_image(image, x1, y1, x2, y2):\n",
        "    # Crop the image\n",
        "    cropped_image = image[y1:y2, x1:x2]\n",
        "    return cropped_image\n",
        "\n",
        "def convert_video_to_frames(video_path, output_folder):\n",
        "    # Open the video file\n",
        "    cap = cv2.VideoCapture(video_path)\n",
        "\n",
        "    # Check if the video file is opened successfully(camera)\n",
        "    if not cap.isOpened():\n",
        "        print(\"Error: Unable to open video file.\")\n",
        "        return\n",
        "\n",
        "    # Create the output folder if it doesn't exist\n",
        "    if not os.path.exists(output_folder):\n",
        "        os.makedirs(output_folder)\n",
        "\n",
        "    # Read the first frame\n",
        "    ret, frame = cap.read()\n",
        "    frame_count = 0\n",
        "\n",
        "    # Loop through each frame of the video\n",
        "    while ret:\n",
        "        # Perform operations: crop, flip, rotate\n",
        "        cropped_frame = crop_image(frame, 200, 100, 400, 300)  # Example crop\n",
        "        flipped_frame = flip_image(frame, 1)  # Example flip (1 for horizontal flip)\n",
        "        rotated_frame = rotate_image(frame, cv2.ROTATE_90_CLOCKWISE)  # Example rotate (clockwise)\n",
        "\n",
        "        # Save the modified frames\n",
        "        cv2.imwrite(os.path.join(output_folder, f\"frame_{frame_count}_cropped.jpg\"), cropped_frame)\n",
        "        cv2.imwrite(os.path.join(output_folder, f\"frame_{frame_count}_flipped.jpg\"), flipped_frame)\n",
        "        cv2.imwrite(os.path.join(output_folder, f\"frame_{frame_count}_rotated.jpg\"), rotated_frame)\n",
        "\n",
        "        # Increment frame count\n",
        "        frame_count += 1\n",
        "\n",
        "        # Read the next frame\n",
        "        ret, frame = cap.read()\n",
        "\n",
        "    # Release the video capture object\n",
        "    cap.release()\n",
        "\n",
        "# Example usage\n",
        "video_path = \"/content/sample_data/Sakri Dengarours Road Accident Live CCTV Footage (online-video-cutter.com).mp4\"\n",
        "output_folder = \"/content/sample_data/Frames\"\n",
        "\n",
        "convert_video_to_frames(video_path, output_folder)\n"
      ]
    },
    {
      "cell_type": "code",
      "execution_count": null,
      "metadata": {
        "id": "uJBv2RSqrFH1"
      },
      "outputs": [],
      "source": []
    },
    {
      "cell_type": "code",
      "source": [
        "from google.colab import drive\n",
        "drive.mount('/content/drive')"
      ],
      "metadata": {
        "colab": {
          "base_uri": "https://localhost:8080/"
        },
        "id": "T12mT_3wbYTq",
        "outputId": "1129c87b-43e0-4da8-e9e6-0e651dff6e57"
      },
      "execution_count": null,
      "outputs": [
        {
          "output_type": "stream",
          "name": "stdout",
          "text": [
            "Drive already mounted at /content/drive; to attempt to forcibly remount, call drive.mount(\"/content/drive\", force_remount=True).\n"
          ]
        }
      ]
    }
  ],
  "metadata": {
    "colab": {
      "provenance": []
    },
    "kernelspec": {
      "display_name": "Python 3",
      "name": "python3"
    },
    "language_info": {
      "codemirror_mode": {
        "name": "ipython",
        "version": 3
      },
      "file_extension": ".py",
      "mimetype": "text/x-python",
      "name": "python",
      "nbconvert_exporter": "python",
      "pygments_lexer": "ipython3",
      "version": "3.11.4"
    }
  },
  "nbformat": 4,
  "nbformat_minor": 0
}